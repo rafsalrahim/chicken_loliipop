{
 "cells": [
  {
   "cell_type": "code",
   "execution_count": 4,
   "metadata": {},
   "outputs": [
    {
     "name": "stdout",
     "output_type": "stream",
     "text": [
      ">7\n",
      "0 1 1 2 3 5 8 "
     ]
    }
   ],
   "source": [
    "#fibonacci series\n",
    "a=0\n",
    "b=1\n",
    "input_val=int(input(\">\"))\n",
    "for x in range(input_val):\n",
    "    if x == 0 :\n",
    "        print(a,end=\" \")\n",
    "    if x == 1:\n",
    "        print(b,end=\" \")\n",
    "    if x > 1:\n",
    "        c=a+b\n",
    "        print(a+b,end=\" \")\n",
    "        b=a+b\n",
    "        a=(b-a)"
   ]
  },
  {
   "cell_type": "code",
   "execution_count": null,
   "metadata": {
    "collapsed": true
   },
   "outputs": [],
   "source": []
  },
  {
   "cell_type": "code",
   "execution_count": null,
   "metadata": {
    "collapsed": true
   },
   "outputs": [],
   "source": []
  }
 ],
 "metadata": {
  "kernelspec": {
   "display_name": "Python 3",
   "language": "python",
   "name": "python3"
  },
  "language_info": {
   "codemirror_mode": {
    "name": "ipython",
    "version": 3
   },
   "file_extension": ".py",
   "mimetype": "text/x-python",
   "name": "python",
   "nbconvert_exporter": "python",
   "pygments_lexer": "ipython3",
   "version": "3.6.3"
  }
 },
 "nbformat": 4,
 "nbformat_minor": 2
}
